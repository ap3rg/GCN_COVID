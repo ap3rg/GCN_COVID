{
 "cells": [
  {
   "cell_type": "code",
   "execution_count": 131,
   "id": "edb8d42a",
   "metadata": {},
   "outputs": [
    {
     "output_type": "stream",
     "name": "stdout",
     "text": [
      "Using matplotlib backend: MacOSX\n"
     ]
    }
   ],
   "source": [
    "import os\n",
    "import sys\n",
    "import scipy\n",
    "import importlib\n",
    "import numpy as np\n",
    "import pandas as pd\n",
    "import networkx as nx\n",
    "\n",
    "import torch.nn.functional as F\n",
    "\n",
    "%matplotlib\n"
   ]
  },
  {
   "cell_type": "code",
   "execution_count": null,
   "metadata": {},
   "outputs": [],
   "source": [
    "# Local imports\n",
    "import GCN.model_config as conf\n",
    "import GCN.model_constants as cons"
   ]
  },
  {
   "cell_type": "code",
   "execution_count": null,
   "metadata": {},
   "outputs": [],
   "source": []
  },
  {
   "cell_type": "code",
   "execution_count": 89,
   "metadata": {},
   "outputs": [
    {
     "output_type": "execute_result",
     "data": {
      "text/plain": [
       "<module 'GCN.layers' from '/Users/andreaparra/Dropbox/4_Work/DataLamaCovid/projects/network_forcasting/GCN/layers.py'>"
      ]
     },
     "metadata": {},
     "execution_count": 89
    }
   ],
   "source": [
    "import GCN.layers as model\n",
    "import GCN.functions as fun\n",
    "\n",
    "importlib.reload(fun)\n",
    "importlib.reload(model)\n"
   ]
  },
  {
   "source": [
    "## Data"
   ],
   "cell_type": "markdown",
   "metadata": {}
  },
  {
   "cell_type": "code",
   "execution_count": 100,
   "metadata": {},
   "outputs": [
    {
     "output_type": "stream",
     "name": "stdout",
     "text": [
      "Loaded 4 graphs.\nFound 25 nodes.\nFound 1 node attributes.\n"
     ]
    }
   ],
   "source": [
    "times = [1, 2, 3, 4]\n",
    "graphs = []             # Ordered timeseries\n",
    "adj_matrices = []       # Ordered timeseries\n",
    "node_attrs = []         # Ordered timeseries\n",
    "\n",
    "for t in times:\n",
    "    edge_data = os.path.join(conf.raw_dir, str(t), \"edgelist.csv\")\n",
    "    node_data = os.path.join(conf.raw_dir, str(t), \"node_attrs.csv\")\n",
    "    \n",
    "    # Get node attrs\n",
    "    node_attrs.append(pd.read_csv(node_data)[\"cases\"].values)\n",
    "\n",
    "    # load graph\n",
    "    df_edge_data = pd.read_csv(edge_data)\n",
    "    Graph = nx.Graph()\n",
    "    G = nx.from_pandas_edgelist(df_edge_data, edge_attr='weight', create_using=Graph)\n",
    "    graphs.append(G)\n",
    "\n",
    "    # Calculate spectral normalized matrix\n",
    "    A_norm = fun.calculate_spectral_norm_matrix(G)\n",
    "    adj_matrices.append(A_norm)\n",
    "\n",
    "print(f\"Loaded {len(times)} graphs.\")\n",
    "print(f\"Found {len(node_attrs[0])} nodes.\")\n",
    "print(f\"Found {1} node attributes.\")    "
   ]
  },
  {
   "cell_type": "code",
   "execution_count": null,
   "metadata": {},
   "outputs": [],
   "source": []
  },
  {
   "source": [
    "## First pass simulation"
   ],
   "cell_type": "markdown",
   "metadata": {}
  },
  {
   "cell_type": "code",
   "execution_count": 134,
   "metadata": {},
   "outputs": [],
   "source": [
    "embedding_window = 2"
   ]
  },
  {
   "cell_type": "code",
   "execution_count": 135,
   "metadata": {},
   "outputs": [
    {
     "output_type": "execute_result",
     "data": {
      "text/plain": [
       "torch.Size([25, 2])"
      ]
     },
     "metadata": {},
     "execution_count": 135
    }
   ],
   "source": [
    "# X is the embedding of node features per a window\n",
    "x = torch.tensor([node_attrs[0], node_attrs[1]], dtype=torch.float)\n",
    "x = torch.transpose(x, 0, 1)\n",
    "x.size()"
   ]
  },
  {
   "cell_type": "code",
   "execution_count": 136,
   "metadata": {},
   "outputs": [
    {
     "output_type": "stream",
     "name": "stdout",
     "text": [
      "Output of first embedding layer: torch.Size([25, 1]).\n"
     ]
    }
   ],
   "source": [
    "# MLP layer\n",
    "mlp1 = torch.nn.Linear(embedding_window, 1, bias=False)\n",
    "                  \n",
    "H0 = F.relu(mlp1(x))\n",
    "print(f\"Output of first embedding layer: {H0.size()}.\")"
   ]
  },
  {
   "cell_type": "code",
   "execution_count": 137,
   "metadata": {},
   "outputs": [
    {
     "output_type": "stream",
     "name": "stdout",
     "text": [
      "Output of first graph layer: torch.Size([25, 1]).\nOutput of first graph layer after adding H0: torch.Size([25, 2]).\n"
     ]
    }
   ],
   "source": [
    "# Adjacency matrix\n",
    "adj = torch.randn(25, 25)\n",
    "\n",
    "# First graph layer\n",
    "gc1 = model.GCN(1, 1)\n",
    "H1 = gc1(H0, adj)\n",
    "print(f\"Output of first graph layer: {H1.size()}.\")\n",
    "\n",
    "# Concatenat H0\n",
    "H1 = torch.cat([H1 , H0], dim=-1)\n",
    "print(f\"Output of first graph layer after adding H0: {H1.size()}.\")"
   ]
  },
  {
   "cell_type": "code",
   "execution_count": 138,
   "metadata": {},
   "outputs": [
    {
     "output_type": "stream",
     "name": "stdout",
     "text": [
      "Output of second graph layer: torch.Size([25, 1]).\nOutput of second graph layer after adding H0: torch.Size([25, 2]).\n"
     ]
    }
   ],
   "source": [
    "# Second graph layer\n",
    "gc2 = model.GCN(2, 1)       # the number of features is 2 because of H0\n",
    "H2 = gc2(H1, adj)\n",
    "print(f\"Output of second graph layer: {H2.size()}.\")\n",
    "\n",
    "# Concatenat H0\n",
    "H2 = torch.cat([H2 , H0], dim=-1)\n",
    "print(f\"Output of second graph layer after adding H0: {H2.size()}.\")"
   ]
  },
  {
   "cell_type": "code",
   "execution_count": 139,
   "metadata": {},
   "outputs": [
    {
     "output_type": "stream",
     "name": "stdout",
     "text": [
      "Output of predictive layer: torch.Size([25, 1]).\n"
     ]
    }
   ],
   "source": [
    "# Predictive layer\n",
    "pred = torch.nn.Linear(2, 1, bias=False)\n",
    "P = F.relu(pred(H2))\n",
    "print(f\"Output of predictive layer: {P.size()}.\")"
   ]
  },
  {
   "cell_type": "code",
   "execution_count": 140,
   "id": "0348f26c",
   "metadata": {},
   "outputs": [
    {
     "output_type": "execute_result",
     "data": {
      "text/plain": [
       "tensor([[18.4782],\n",
       "        [ 0.0000],\n",
       "        [ 3.5651],\n",
       "        [ 0.0000],\n",
       "        [ 0.0000],\n",
       "        [ 0.0000],\n",
       "        [ 0.0000],\n",
       "        [ 0.0000],\n",
       "        [ 0.0000],\n",
       "        [ 5.9865],\n",
       "        [ 0.1467],\n",
       "        [ 0.0000],\n",
       "        [ 0.0000],\n",
       "        [ 8.2315],\n",
       "        [ 0.0000],\n",
       "        [ 0.0000],\n",
       "        [ 0.0000],\n",
       "        [ 0.0000],\n",
       "        [ 0.0000],\n",
       "        [ 0.0000],\n",
       "        [ 9.0863],\n",
       "        [ 0.0000],\n",
       "        [ 0.0000],\n",
       "        [ 0.0000],\n",
       "        [ 0.0000]], grad_fn=<ReluBackward0>)"
      ]
     },
     "metadata": {},
     "execution_count": 140
    }
   ],
   "source": [
    "\n",
    "P"
   ]
  },
  {
   "cell_type": "code",
   "execution_count": null,
   "metadata": {},
   "outputs": [],
   "source": []
  }
 ],
 "metadata": {
  "kernelspec": {
   "display_name": "venv",
   "language": "python",
   "name": "venv"
  }
 },
 "nbformat": 4,
 "nbformat_minor": 5
}