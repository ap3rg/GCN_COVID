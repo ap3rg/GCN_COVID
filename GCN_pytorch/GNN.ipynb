{
 "cells": [
  {
   "cell_type": "code",
   "execution_count": 18,
   "id": "edb8d42a",
   "metadata": {},
   "outputs": [
    {
     "output_type": "stream",
     "name": "stdout",
     "text": [
      "Using matplotlib backend: MacOSX\n['/Users/andreaparra/Dropbox/4_Work/DataLamaCovid/projects/network_forcasting/GCN_COVID/GCN_pytorch', '/Users/andreaparra/Dropbox/4_Work/DataLamaCovid/projects/network_forcasting/GCN_COVID/GCN_pytorch', '/Users/andreaparra/Dropbox/4_Work/DataLamaCovid/projects/network_forcasting', '/Library/Developer/CommandLineTools/Library/Frameworks/Python3.framework/Versions/3.8/lib/python38.zip', '/Library/Developer/CommandLineTools/Library/Frameworks/Python3.framework/Versions/3.8/lib/python3.8', '/Library/Developer/CommandLineTools/Library/Frameworks/Python3.framework/Versions/3.8/lib/python3.8/lib-dynload', '', '/Users/andreaparra/Dropbox/4_Work/DataLamaCovid/projects/network_forcasting/venv/lib/python3.8/site-packages', '/Users/andreaparra/Dropbox/4_Work/DataLamaCovid/projects/network_forcasting/venv/lib/python3.8/site-packages/IPython/extensions', '/Users/andreaparra/.ipython']\n"
     ]
    }
   ],
   "source": [
    "import os\n",
    "import sys\n",
    "import math\n",
    "import scipy\n",
    "import importlib\n",
    "import numpy as np\n",
    "import pandas as pd\n",
    "import networkx as nx\n",
    "import matplotlib.pyplot as plt\n",
    "\n",
    "import torch.nn.functional as F\n",
    "\n",
    "%matplotlib\n",
    "sys.path.insert(0, \"/Users/andreaparra/Dropbox/4_Work/DataLamaCovid/projects/network_forcasting/GCN_COVID/GCN_pytorch\")\n",
    "print(sys.path)\n"
   ]
  },
  {
   "cell_type": "code",
   "execution_count": 29,
   "metadata": {},
   "outputs": [],
   "source": [
    "base_path = \"/Users/andreaparra/Dropbox/4_Work/DataLamaCovid/projects/network_forcasting/GCN_COVID/GCN_pytorch/out/\"\n",
    "data_set = \"pred_window_1\""
   ]
  },
  {
   "cell_type": "code",
   "execution_count": 30,
   "metadata": {},
   "outputs": [
    {
     "output_type": "execute_result",
     "data": {
      "text/plain": [
       "     0       1    2    3    4    5         6         7    8    9   10   11  \\\n",
       "0  0.0  0.0000  0.0  0.0  0.0  0.0  0.000000  0.000000  0.0  0.0  0.0  0.0   \n",
       "1  0.0  0.0134  0.0  0.0  0.0  0.0  0.000000  0.000000  0.0  0.0  0.0  0.0   \n",
       "2  0.0  0.0000  0.0  0.0  0.0  0.0  0.254311  0.070231  0.0  0.0  0.0  0.0   \n",
       "3  0.0  0.0000  0.0  0.0  0.0  0.0  0.000000  0.000000  0.0  0.0  0.0  0.0   \n",
       "4  0.0  0.0000  0.0  0.0  0.0  0.0  0.000000  0.000000  0.0  0.0  0.0  0.0   \n",
       "\n",
       "    12   13        14   15        16   17   18  \n",
       "0  0.0  0.0  0.000000  0.0  0.016298  0.0  0.0  \n",
       "1  0.0  0.0  0.082462  0.0  0.072460  0.0  0.0  \n",
       "2  0.0  0.0  0.000000  0.0  0.113918  0.0  0.0  \n",
       "3  0.0  0.0  0.024314  0.0  0.000000  0.0  0.0  \n",
       "4  0.0  0.0  0.000000  0.0  0.000000  0.0  0.0  "
      ],
      "text/html": "<div>\n<style scoped>\n    .dataframe tbody tr th:only-of-type {\n        vertical-align: middle;\n    }\n\n    .dataframe tbody tr th {\n        vertical-align: top;\n    }\n\n    .dataframe thead th {\n        text-align: right;\n    }\n</style>\n<table border=\"1\" class=\"dataframe\">\n  <thead>\n    <tr style=\"text-align: right;\">\n      <th></th>\n      <th>0</th>\n      <th>1</th>\n      <th>2</th>\n      <th>3</th>\n      <th>4</th>\n      <th>5</th>\n      <th>6</th>\n      <th>7</th>\n      <th>8</th>\n      <th>9</th>\n      <th>10</th>\n      <th>11</th>\n      <th>12</th>\n      <th>13</th>\n      <th>14</th>\n      <th>15</th>\n      <th>16</th>\n      <th>17</th>\n      <th>18</th>\n    </tr>\n  </thead>\n  <tbody>\n    <tr>\n      <th>0</th>\n      <td>0.0</td>\n      <td>0.0000</td>\n      <td>0.0</td>\n      <td>0.0</td>\n      <td>0.0</td>\n      <td>0.0</td>\n      <td>0.000000</td>\n      <td>0.000000</td>\n      <td>0.0</td>\n      <td>0.0</td>\n      <td>0.0</td>\n      <td>0.0</td>\n      <td>0.0</td>\n      <td>0.0</td>\n      <td>0.000000</td>\n      <td>0.0</td>\n      <td>0.016298</td>\n      <td>0.0</td>\n      <td>0.0</td>\n    </tr>\n    <tr>\n      <th>1</th>\n      <td>0.0</td>\n      <td>0.0134</td>\n      <td>0.0</td>\n      <td>0.0</td>\n      <td>0.0</td>\n      <td>0.0</td>\n      <td>0.000000</td>\n      <td>0.000000</td>\n      <td>0.0</td>\n      <td>0.0</td>\n      <td>0.0</td>\n      <td>0.0</td>\n      <td>0.0</td>\n      <td>0.0</td>\n      <td>0.082462</td>\n      <td>0.0</td>\n      <td>0.072460</td>\n      <td>0.0</td>\n      <td>0.0</td>\n    </tr>\n    <tr>\n      <th>2</th>\n      <td>0.0</td>\n      <td>0.0000</td>\n      <td>0.0</td>\n      <td>0.0</td>\n      <td>0.0</td>\n      <td>0.0</td>\n      <td>0.254311</td>\n      <td>0.070231</td>\n      <td>0.0</td>\n      <td>0.0</td>\n      <td>0.0</td>\n      <td>0.0</td>\n      <td>0.0</td>\n      <td>0.0</td>\n      <td>0.000000</td>\n      <td>0.0</td>\n      <td>0.113918</td>\n      <td>0.0</td>\n      <td>0.0</td>\n    </tr>\n    <tr>\n      <th>3</th>\n      <td>0.0</td>\n      <td>0.0000</td>\n      <td>0.0</td>\n      <td>0.0</td>\n      <td>0.0</td>\n      <td>0.0</td>\n      <td>0.000000</td>\n      <td>0.000000</td>\n      <td>0.0</td>\n      <td>0.0</td>\n      <td>0.0</td>\n      <td>0.0</td>\n      <td>0.0</td>\n      <td>0.0</td>\n      <td>0.024314</td>\n      <td>0.0</td>\n      <td>0.000000</td>\n      <td>0.0</td>\n      <td>0.0</td>\n    </tr>\n    <tr>\n      <th>4</th>\n      <td>0.0</td>\n      <td>0.0000</td>\n      <td>0.0</td>\n      <td>0.0</td>\n      <td>0.0</td>\n      <td>0.0</td>\n      <td>0.000000</td>\n      <td>0.000000</td>\n      <td>0.0</td>\n      <td>0.0</td>\n      <td>0.0</td>\n      <td>0.0</td>\n      <td>0.0</td>\n      <td>0.0</td>\n      <td>0.000000</td>\n      <td>0.0</td>\n      <td>0.000000</td>\n      <td>0.0</td>\n      <td>0.0</td>\n    </tr>\n  </tbody>\n</table>\n</div>"
     },
     "metadata": {},
     "execution_count": 30
    }
   ],
   "source": [
    "df_predictions = pd.read_csv(os.path.join(base_path, data_set, \"predictions.csv\"), sep=\"\\t\")\n",
    "df_predictions.head()"
   ]
  },
  {
   "cell_type": "code",
   "execution_count": 27,
   "metadata": {},
   "outputs": [
    {
     "output_type": "execute_result",
     "data": {
      "text/plain": [
       "          0         1         2         3         4         5         6  \\\n",
       "0  0.191880  0.093266  0.591822  0.719201  0.173770  0.654531  0.134128   \n",
       "1  0.154538  0.236315  0.633965  0.204165  0.592868  0.174575  0.995530   \n",
       "2  0.189282  0.082011  0.685920  0.073806  0.687960  0.250358  0.823624   \n",
       "3  0.808965  0.106627  0.843631  0.074513  0.034171  0.841963  0.907591   \n",
       "4  0.044097  0.731094  0.805300  0.442610  0.303417  0.766107  0.731531   \n",
       "\n",
       "          7         8         9        10        11        12        13  \\\n",
       "0  0.966768  0.426950  0.457147  0.499007  0.628024  0.319262  0.094035   \n",
       "1  0.920307  0.720406  0.358138  0.167373  0.279313  0.120385  0.943895   \n",
       "2  0.323471  0.255877  0.172863  0.507018  0.019115  0.518288  0.837075   \n",
       "3  0.454355  0.162568  0.466636  0.262548  0.095009  0.559711  0.572601   \n",
       "4  0.376013  0.718151  0.567012  0.787863  0.359071  0.659961  0.275629   \n",
       "\n",
       "         14        15        16        17        18  \n",
       "0  0.773822  0.569242  0.560418  0.824094  0.463160  \n",
       "1  0.865590  0.488459  0.468403  0.337398  0.456450  \n",
       "2  0.900581  0.381410  0.462440  0.029662  0.083315  \n",
       "3  0.510655  0.041181  0.730027  0.665342  0.900803  \n",
       "4  0.806762  0.045465  0.011130  0.819438  0.489282  "
      ],
      "text/html": "<div>\n<style scoped>\n    .dataframe tbody tr th:only-of-type {\n        vertical-align: middle;\n    }\n\n    .dataframe tbody tr th {\n        vertical-align: top;\n    }\n\n    .dataframe thead th {\n        text-align: right;\n    }\n</style>\n<table border=\"1\" class=\"dataframe\">\n  <thead>\n    <tr style=\"text-align: right;\">\n      <th></th>\n      <th>0</th>\n      <th>1</th>\n      <th>2</th>\n      <th>3</th>\n      <th>4</th>\n      <th>5</th>\n      <th>6</th>\n      <th>7</th>\n      <th>8</th>\n      <th>9</th>\n      <th>10</th>\n      <th>11</th>\n      <th>12</th>\n      <th>13</th>\n      <th>14</th>\n      <th>15</th>\n      <th>16</th>\n      <th>17</th>\n      <th>18</th>\n    </tr>\n  </thead>\n  <tbody>\n    <tr>\n      <th>0</th>\n      <td>0.191880</td>\n      <td>0.093266</td>\n      <td>0.591822</td>\n      <td>0.719201</td>\n      <td>0.173770</td>\n      <td>0.654531</td>\n      <td>0.134128</td>\n      <td>0.966768</td>\n      <td>0.426950</td>\n      <td>0.457147</td>\n      <td>0.499007</td>\n      <td>0.628024</td>\n      <td>0.319262</td>\n      <td>0.094035</td>\n      <td>0.773822</td>\n      <td>0.569242</td>\n      <td>0.560418</td>\n      <td>0.824094</td>\n      <td>0.463160</td>\n    </tr>\n    <tr>\n      <th>1</th>\n      <td>0.154538</td>\n      <td>0.236315</td>\n      <td>0.633965</td>\n      <td>0.204165</td>\n      <td>0.592868</td>\n      <td>0.174575</td>\n      <td>0.995530</td>\n      <td>0.920307</td>\n      <td>0.720406</td>\n      <td>0.358138</td>\n      <td>0.167373</td>\n      <td>0.279313</td>\n      <td>0.120385</td>\n      <td>0.943895</td>\n      <td>0.865590</td>\n      <td>0.488459</td>\n      <td>0.468403</td>\n      <td>0.337398</td>\n      <td>0.456450</td>\n    </tr>\n    <tr>\n      <th>2</th>\n      <td>0.189282</td>\n      <td>0.082011</td>\n      <td>0.685920</td>\n      <td>0.073806</td>\n      <td>0.687960</td>\n      <td>0.250358</td>\n      <td>0.823624</td>\n      <td>0.323471</td>\n      <td>0.255877</td>\n      <td>0.172863</td>\n      <td>0.507018</td>\n      <td>0.019115</td>\n      <td>0.518288</td>\n      <td>0.837075</td>\n      <td>0.900581</td>\n      <td>0.381410</td>\n      <td>0.462440</td>\n      <td>0.029662</td>\n      <td>0.083315</td>\n    </tr>\n    <tr>\n      <th>3</th>\n      <td>0.808965</td>\n      <td>0.106627</td>\n      <td>0.843631</td>\n      <td>0.074513</td>\n      <td>0.034171</td>\n      <td>0.841963</td>\n      <td>0.907591</td>\n      <td>0.454355</td>\n      <td>0.162568</td>\n      <td>0.466636</td>\n      <td>0.262548</td>\n      <td>0.095009</td>\n      <td>0.559711</td>\n      <td>0.572601</td>\n      <td>0.510655</td>\n      <td>0.041181</td>\n      <td>0.730027</td>\n      <td>0.665342</td>\n      <td>0.900803</td>\n    </tr>\n    <tr>\n      <th>4</th>\n      <td>0.044097</td>\n      <td>0.731094</td>\n      <td>0.805300</td>\n      <td>0.442610</td>\n      <td>0.303417</td>\n      <td>0.766107</td>\n      <td>0.731531</td>\n      <td>0.376013</td>\n      <td>0.718151</td>\n      <td>0.567012</td>\n      <td>0.787863</td>\n      <td>0.359071</td>\n      <td>0.659961</td>\n      <td>0.275629</td>\n      <td>0.806762</td>\n      <td>0.045465</td>\n      <td>0.011130</td>\n      <td>0.819438</td>\n      <td>0.489282</td>\n    </tr>\n  </tbody>\n</table>\n</div>"
     },
     "metadata": {},
     "execution_count": 27
    }
   ],
   "source": [
    "df_targets = pd.read_csv(os.path.join(base_path, data_set, \"target.csv\"), sep=\"\\t\")\n",
    "df_targets.head()"
   ]
  },
  {
   "cell_type": "code",
   "execution_count": 28,
   "metadata": {},
   "outputs": [],
   "source": [
    "for node in df_predictions.columns:\n",
    "    y_1 = df_predictions[node].values\n",
    "    y_2 = df_targets[node].values\n",
    "\n",
    "    error = []                          #MSE\n",
    "    tot_error = 0                         \n",
    "    for idx, y1 in enumerate(y_1):\n",
    "        er = (y1 - y_2[idx]) ** 2\n",
    "        error.append(math.sqrt(er))\n",
    "        tot_error += er\n",
    "    MSE = tot_error/len(error)\n",
    "\n",
    "    x = df_predictions.index.values\n",
    "\n",
    "    fig, (ax1, ax2) = plt.subplots(1,2, figsize=(15,8))\n",
    "\n",
    "    # Plot predictions\n",
    "    ax1.plot(x, y_1, color=\"indigo\", label=\"prediction\")\n",
    "    ax1.plot(x, y_2, color=\"turquoise\", label=\"target\")\n",
    "    ax1.set_title(f\"Node number {node}\")\n",
    "    ax1.set_xlabel(\"Time (d)\")\n",
    "    ax1.set_ylabel(\"Number of cases (daily)\")\n",
    "\n",
    "    # Plot accuracy\n",
    "    ax2.plot(x, error, color=\"tomato\", label=\"error (squared error)\")\n",
    "    ax2.set_title(f\"Error for node number {node}. (MSE: {round(MSE, 2)})\")\n",
    "    ax2.set_xlabel(\"Time (d)\")\n",
    "    ax2.set_ylabel(\"Error (squared error)\")\n",
    "\n",
    "    fig.legend()\n",
    "    fig.savefig(os.path.join(base_path, data_set, f\"{node}.jpeg\"), bbox_inches='tight') "
   ]
  },
  {
   "cell_type": "code",
   "execution_count": 10,
   "metadata": {},
   "outputs": [],
   "source": [
    "errors = []\n",
    "pred_dates = []\n",
    "for window in range(1, 10):\n",
    "    file_path = os.path.join(base_path, f\"pred_window_{window}\", \"errors.csv\")\n",
    "    df = pd.read_csv(file_path, names=[\"error\"])\n",
    "    error = df[\"error\"].mean()\n",
    "    errors.append(error)\n",
    "    pred_dates.append(window)"
   ]
  },
  {
   "cell_type": "code",
   "execution_count": 13,
   "metadata": {},
   "outputs": [],
   "source": [
    "fig, ax = plt.subplots(1, 1)\n",
    "\n",
    "ax.plot(pred_dates, errors, color=\"mediumseagreen\")\n",
    "ax.set_title(f\"MSE\")\n",
    "ax.set_xlabel(\"Prediction window (d)\")\n",
    "ax.set_ylabel(\"Error (MSE)\")\n",
    "\n",
    "fig.savefig(os.path.join(base_path, \"MSE.jpeg\"), bbox_inches='tight') \n"
   ]
  },
  {
   "cell_type": "code",
   "execution_count": null,
   "metadata": {},
   "outputs": [],
   "source": []
  }
 ],
 "metadata": {
  "kernelspec": {
   "display_name": "venv",
   "language": "python",
   "name": "venv"
  }
 },
 "nbformat": 4,
 "nbformat_minor": 5
}